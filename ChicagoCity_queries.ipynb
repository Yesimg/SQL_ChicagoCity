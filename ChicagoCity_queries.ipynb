{
 "cells": [
  {
   "cell_type": "markdown",
   "metadata": {},
   "source": [
    "# Introduction\n",
    "\n",
    "Using this Python notebook you will:\n",
    "\n",
    "1.  Understand three Chicago datasets\n",
    "2.  Load the three datasets into three tables in a Db2 database\n",
    "3.  Execute SQL queries to answer assignment questions\n"
   ]
  },
  {
   "cell_type": "markdown",
   "metadata": {},
   "source": [
    "## Understand the datasets\n",
    "\n",
    "To complete the assignment problems in this notebook you will be using three datasets that are available on the city of Chicago's Data Portal:\n",
    "\n",
    "1.  <a href=\"https://data.cityofchicago.org/Health-Human-Services/Census-Data-Selected-socioeconomic-indicators-in-C/kn9c-c2s2?utm_medium=Exinfluencer&utm_source=Exinfluencer&utm_content=000026UJ&utm_term=10006555&utm_id=NA-SkillsNetwork-Channel-SkillsNetworkCoursesIBMDeveloperSkillsNetworkDB0201ENSkillsNetwork20127838-2022-01-01\">Socioeconomic Indicators in Chicago</a>\n",
    "2.  <a href=\"https://data.cityofchicago.org/Education/Chicago-Public-Schools-Progress-Report-Cards-2011-/9xs2-f89t?utm_medium=Exinfluencer&utm_source=Exinfluencer&utm_content=000026UJ&utm_term=10006555&utm_id=NA-SkillsNetwork-Channel-SkillsNetworkCoursesIBMDeveloperSkillsNetworkDB0201ENSkillsNetwork20127838-2022-01-01\">Chicago Public Schools</a>\n",
    "3.  <a href=\"https://data.cityofchicago.org/Public-Safety/Crimes-2001-to-present/ijzp-q8t2?utm_medium=Exinfluencer&utm_source=Exinfluencer&utm_content=000026UJ&utm_term=10006555&utm_id=NA-SkillsNetwork-Channel-SkillsNetworkCoursesIBMDeveloperSkillsNetworkDB0201ENSkillsNetwork20127838-2022-01-01\">Chicago Crime Data</a>\n",
    "\n",
    "### 1. Socioeconomic Indicators in Chicago\n",
    "\n",
    "This dataset contains a selection of six socioeconomic indicators of public health significance and a “hardship index,” for each Chicago community area, for the years 2008 – 2012.\n",
    "\n",
    "A detailed description of this dataset and the original dataset can be obtained from the Chicago Data Portal at:\n",
    "[https://data.cityofchicago.org/Health-Human-Services/Census-Data-Selected-socioeconomic-indicators-in-C/kn9c-c2s2](https://data.cityofchicago.org/Health-Human-Services/Census-Data-Selected-socioeconomic-indicators-in-C/kn9c-c2s2?utm_medium=Exinfluencer&utm_source=Exinfluencer&utm_content=000026UJ&utm_term=10006555&utm_id=NA-SkillsNetwork-Channel-SkillsNetworkCoursesIBMDeveloperSkillsNetworkDB0201ENSkillsNetwork20127838-2022-01-01&cm_mmc=Email_Newsletter-\\_-Developer_Ed%2BTech-\\_-WW_WW-\\_-SkillsNetwork-Courses-IBMDeveloperSkillsNetwork-DB0201EN-SkillsNetwork-20127838&cm_mmca1=000026UJ&cm_mmca2=10006555&cm_mmca3=M12345678&cvosrc=email.Newsletter.M12345678&cvo_campaign=000026UJ)\n",
    "\n",
    "### 2. Chicago Public Schools\n",
    "\n",
    "This dataset shows all school level performance data used to create CPS School Report Cards for the 2011-2012 school year. This dataset is provided by the city of Chicago's Data Portal.\n",
    "\n",
    "A detailed description of this dataset and the original dataset can be obtained from the Chicago Data Portal at:\n",
    "[https://data.cityofchicago.org/Education/Chicago-Public-Schools-Progress-Report-Cards-2011-/9xs2-f89t](https://data.cityofchicago.org/Education/Chicago-Public-Schools-Progress-Report-Cards-2011-/9xs2-f89t?utm_medium=Exinfluencer&utm_source=Exinfluencer&utm_content=000026UJ&utm_term=10006555&utm_id=NA-SkillsNetwork-Channel-SkillsNetworkCoursesIBMDeveloperSkillsNetworkDB0201ENSkillsNetwork20127838-2022-01-01&cm_mmc=Email_Newsletter-\\_-Developer_Ed%2BTech-\\_-WW_WW-\\_-SkillsNetwork-Courses-IBMDeveloperSkillsNetwork-DB0201EN-SkillsNetwork-20127838&cm_mmca1=000026UJ&cm_mmca2=10006555&cm_mmca3=M12345678&cvosrc=email.Newsletter.M12345678&cvo_campaign=000026UJ)\n",
    "\n",
    "### 3. Chicago Crime Data\n",
    "\n",
    "This dataset reflects reported incidents of crime (with the exception of murders where data exists for each victim) that occurred in the City of Chicago from 2001 to present, minus the most recent seven days.\n",
    "\n",
    "A detailed description of this dataset and the original dataset can be obtained from the Chicago Data Portal at:\n",
    "[https://data.cityofchicago.org/Public-Safety/Crimes-2001-to-present/ijzp-q8t2](https://data.cityofchicago.org/Public-Safety/Crimes-2001-to-present/ijzp-q8t2?utm_medium=Exinfluencer&utm_source=Exinfluencer&utm_content=000026UJ&utm_term=10006555&utm_id=NA-SkillsNetwork-Channel-SkillsNetworkCoursesIBMDeveloperSkillsNetworkDB0201ENSkillsNetwork20127838-2022-01-01&cm_mmc=Email_Newsletter-\\_-Developer_Ed%2BTech-\\_-WW_WW-\\_-SkillsNetwork-Courses-IBMDeveloperSkillsNetwork-DB0201EN-SkillsNetwork-20127838&cm_mmca1=000026UJ&cm_mmca2=10006555&cm_mmca3=M12345678&cvosrc=email.Newsletter.M12345678&cvo_campaign=000026UJ)\n"
   ]
  },
  {
   "cell_type": "markdown",
   "metadata": {},
   "source": [
    "### Download the datasets\n",
    "\n",
    "This assignment requires you to have these three tables populated with a subset of the whole datasets.\n",
    "\n",
    "In many cases the dataset to be analyzed is available as a .CSV (comma separated values) file, perhaps on the internet. Click on the links below to download and save the datasets (.CSV files):\n",
    "\n",
    "*   <a href=\"https://cf-courses-data.s3.us.cloud-object-storage.appdomain.cloud/IBMDeveloperSkillsNetwork-DB0201EN-SkillsNetwork/labs/FinalModule_Coursera_V5/data/ChicagoCensusData.csv?utm_medium=Exinfluencer&utm_source=Exinfluencer&utm_content=000026UJ&utm_term=10006555&utm_id=NA-SkillsNetwork-Channel-SkillsNetworkCoursesIBMDeveloperSkillsNetworkDB0201ENSkillsNetwork20127838-2022-01-01\" target=\"_blank\">Chicago Census Data</a>\n",
    "\n",
    "*   <a href=\"https://cf-courses-data.s3.us.cloud-object-storage.appdomain.cloud/IBMDeveloperSkillsNetwork-DB0201EN-SkillsNetwork/labs/FinalModule_Coursera_V5/data/ChicagoPublicSchools.csv?utm_medium=Exinfluencer&utm_source=Exinfluencer&utm_content=000026UJ&utm_term=10006555&utm_id=NA-SkillsNetwork-Channel-SkillsNetworkCoursesIBMDeveloperSkillsNetworkDB0201ENSkillsNetwork20127838-2022-01-01\" target=\"_blank\">Chicago Public Schools</a>\n",
    "\n",
    "*   <a href=\"https://cf-courses-data.s3.us.cloud-object-storage.appdomain.cloud/IBMDeveloperSkillsNetwork-DB0201EN-SkillsNetwork/labs/FinalModule_Coursera_V5/data/ChicagoCrimeData.csv?utm_medium=Exinfluencer&utm_source=Exinfluencer&utm_content=000026UJ&utm_term=10006555&utm_id=NA-SkillsNetwork-Channel-SkillsNetworkCoursesIBMDeveloperSkillsNetworkDB0201ENSkillsNetwork20127838-2022-01-01\" target=\"_blank\">Chicago Crime Data</a>\n",
    "\n",
    "**NOTE:** Ensure you have downloaded the datasets using the links above instead of directly from the Chicago Data Portal. The versions linked here are subsets of the original datasets and have some of the column names modified to be more database friendly which will make it easier to complete this assignment.\n"
   ]
  },
  {
   "cell_type": "markdown",
   "metadata": {},
   "source": [
    "### Connect to the database\n",
    "\n",
    "Let us first load the SQL extension and establish a connection with the database\n",
    "\n",
    "The following required modules are pre-installed in the Skills Network Labs environment. However if you run this notebook commands in a different Jupyter environment (e.g. Watson Studio or Ananconda) you may need to install these libraries by removing the `#` sign before `!pip` in the code cell below.\n"
   ]
  },
  {
   "cell_type": "markdown",
   "metadata": {},
   "source": [
    "## Problems\n",
    "\n",
    "Now write and execute SQL queries to solve assignment problems\n",
    "\n",
    "### Problem 1\n",
    "\n",
    "##### Find the total number of crimes recorded in the CRIME table.\n"
   ]
  },
  {
   "cell_type": "code",
   "execution_count": 83,
   "metadata": {},
   "outputs": [
    {
     "data": {
      "text/plain": [
       "[(533,)]"
      ]
     },
     "execution_count": 83,
     "metadata": {},
     "output_type": "execute_result"
    }
   ],
   "source": [
    "import mysql.connector \n",
    "db= mysql.connector.connect(\n",
    "    host= 'localhost',\n",
    "    user= 'root',\n",
    "    password= '7899',\n",
    "    database= 'final_work_peer'\n",
    ")\n",
    "cursor= db.cursor()\n",
    "\n",
    "sql=\"SELECT COUNT(CASE_NUMBER) FROM csvjson\"\n",
    "cursor.execute(sql)\n",
    "result= cursor.fetchall()\n",
    "result\n"
   ]
  },
  {
   "cell_type": "markdown",
   "metadata": {},
   "source": [
    "### Problem 2\n",
    "\n",
    "##### List community areas with per capita income less than 11000.\n"
   ]
  },
  {
   "cell_type": "code",
   "execution_count": 16,
   "metadata": {},
   "outputs": [
    {
     "name": "stdout",
     "output_type": "stream",
     "text": [
      "('West Garfield Park',)\n",
      "('South Lawndale',)\n",
      "('Fuller Park',)\n",
      "('Riverdale',)\n"
     ]
    }
   ],
   "source": [
    "cursor= db.cursor()\n",
    "sql= \"SELECT COMMUNITY_AREA_NAME FROM ChicagoCensusData WHERE PER_CAPITA_INCOME < 11000\"\n",
    "cursor.execute(sql)\n",
    "result= cursor.fetchall()\n",
    "\n",
    "for riga in result:\n",
    "    print(riga)"
   ]
  },
  {
   "cell_type": "markdown",
   "metadata": {},
   "source": [
    "### Problem 3\n",
    "\n",
    "##### List all case numbers for crimes  involving minors?(children are not considered minors for the purposes of crime analysis)\n"
   ]
  },
  {
   "cell_type": "code",
   "execution_count": 17,
   "metadata": {},
   "outputs": [
    {
     "data": {
      "text/plain": [
       "[(2,)]"
      ]
     },
     "execution_count": 17,
     "metadata": {},
     "output_type": "execute_result"
    }
   ],
   "source": [
    "cursor= db.cursor()\n",
    "sql= \"SELECT COUNT(DESCRIPTION) AS COUNT_MINOR_INVOLVED FROM csvjson WHERE DESCRIPTION LIKE '%MINOR%'\"\n",
    "cursor.execute(sql)\n",
    "result= cursor.fetchall()\n",
    "result\n"
   ]
  },
  {
   "cell_type": "markdown",
   "metadata": {},
   "source": [
    "### Problem 4\n",
    "\n",
    "##### List all kidnapping crimes involving a child?\n"
   ]
  },
  {
   "cell_type": "code",
   "execution_count": 18,
   "metadata": {},
   "outputs": [
    {
     "data": {
      "text/plain": [
       "[('KIDNAPPING', 'CHILD ABDUCTION/STRANGER')]"
      ]
     },
     "execution_count": 18,
     "metadata": {},
     "output_type": "execute_result"
    }
   ],
   "source": [
    "cursor= db.cursor()\n",
    "sql= \"SELECT PRIMARY_TYPE, DESCRIPTION FROM csvjson WHERE PRIMARY_TYPE = 'KIDNAPPING' AND DESCRIPTION LIKE '%CHILD%';\"\n",
    "cursor.execute(sql)\n",
    "result= cursor.fetchall()\n",
    "result\n"
   ]
  },
  {
   "cell_type": "markdown",
   "metadata": {},
   "source": [
    "### Problem 5\n",
    "\n",
    "##### What kinds of crimes were recorded at schools?\n"
   ]
  },
  {
   "cell_type": "code",
   "execution_count": 86,
   "metadata": {},
   "outputs": [
    {
     "name": "stdout",
     "output_type": "stream",
     "text": [
      "('BATTERY', 'PRO EMP HANDS NO/MIN INJURY', 'SCHOOL, PUBLIC, BUILDING')\n",
      "('BATTERY', 'SIMPLE', 'SCHOOL, PUBLIC, BUILDING')\n",
      "('BATTERY', 'SIMPLE', 'SCHOOL, PUBLIC, BUILDING')\n",
      "('NARCOTICS', 'MANU/DEL:CANNABIS 10GM OR LESS', 'SCHOOL, PUBLIC, BUILDING')\n",
      "('PUBLIC PEACE VIOLATION', 'BOMB THREAT', 'SCHOOL, PUBLIC, BUILDING')\n"
     ]
    }
   ],
   "source": [
    "cursor= db.cursor()\n",
    "sql= \"SELECT PRIMARY_TYPE, DESCRIPTION, LOCATION_DESCRIPTION FROM csvjson C\\\n",
    "    WHERE LOCATION_DESCRIPTION = 'SCHOOL, PUBLIC, BUILDING'\"\n",
    "cursor.execute(sql)\n",
    "result= cursor.fetchall()\n",
    "\n",
    "for riga in result:\n",
    "    print(riga)"
   ]
  },
  {
   "cell_type": "markdown",
   "metadata": {},
   "source": [
    "### Problem 6\n",
    "\n",
    "##### List the average safety score for each type of school.\n"
   ]
  },
  {
   "cell_type": "code",
   "execution_count": 64,
   "metadata": {},
   "outputs": [
    {
     "data": {
      "text/plain": [
       "[('ES', Decimal('46.6885')),\n",
       " ('HS', Decimal('61.0000')),\n",
       " ('MS', Decimal('52.0000'))]"
      ]
     },
     "execution_count": 64,
     "metadata": {},
     "output_type": "execute_result"
    }
   ],
   "source": [
    "sql= \" SELECT `Elementary, Middle, or High School`, AVG(SAFETY_SCORE) FROM ChicagoPublicSchools \\\n",
    "    group by `Elementary, Middle, or High School`;\"\n",
    "cursor.execute(sql)\n",
    "result= cursor.fetchall()\n",
    "result"
   ]
  },
  {
   "cell_type": "markdown",
   "metadata": {},
   "source": [
    "### Problem 7\n",
    "\n",
    "##### List 5 community areas with highest % of households below poverty line\n"
   ]
  },
  {
   "cell_type": "code",
   "execution_count": 63,
   "metadata": {},
   "outputs": [
    {
     "data": {
      "text/plain": [
       "[('Riverdale', 56.5),\n",
       " ('Fuller Park', 51.2),\n",
       " ('Englewood', 46.6),\n",
       " ('North Lawndale', 43.1),\n",
       " ('East Garfield Park', 42.4)]"
      ]
     },
     "execution_count": 63,
     "metadata": {},
     "output_type": "execute_result"
    }
   ],
   "source": [
    "sql= \"SELECT COMMUNITY_AREA_NAME, PERCENT_HOUSEHOLDS_BELOW_POVERTY  FROM ChicagoCensusData \\\n",
    "    ORDER BY PERCENT_HOUSEHOLDS_BELOW_POVERTY DESC LIMIT 5\"\n",
    "cursor.execute(sql)\n",
    "result= cursor.fetchall()\n",
    "result"
   ]
  },
  {
   "cell_type": "markdown",
   "metadata": {},
   "source": [
    "### Problem 8\n",
    "\n",
    "##### Which community area is most crime prone?\n"
   ]
  },
  {
   "cell_type": "code",
   "execution_count": 78,
   "metadata": {},
   "outputs": [
    {
     "data": {
      "text/plain": [
       "('25', 43)"
      ]
     },
     "execution_count": 78,
     "metadata": {},
     "output_type": "execute_result"
    }
   ],
   "source": [
    "\n",
    "sql= \"SELECT COMMUNITY_AREA_NUMBER, count(CASE_NUMBER) as Num_of_cases FROM csvjson \\\n",
    "    GROUP BY community_area_number ORDER BY Num_of_cases DESC \"\n",
    "cursor.execute(sql)\n",
    "result= cursor.fetchone()\n",
    "result"
   ]
  },
  {
   "cell_type": "markdown",
   "metadata": {},
   "source": [
    "### Problem 9\n",
    "\n",
    "##### Use a sub-query to find the name of the community area with highest hardship index\n"
   ]
  },
  {
   "cell_type": "code",
   "execution_count": 66,
   "metadata": {},
   "outputs": [
    {
     "data": {
      "text/plain": [
       "[('Riverdale',)]"
      ]
     },
     "execution_count": 66,
     "metadata": {},
     "output_type": "execute_result"
    }
   ],
   "source": [
    "sql= \"SELECT COMMUNITY_AREA_NAME FROM ChicagoCensusData \\\n",
    "    WHERE HARDSHIP_INDEX = (SELECT MAX(HARDSHIP_INDEX) FROM ChicagoCensusData)\"\n",
    "cursor.execute(sql)\n",
    "result= cursor.fetchall()\n",
    "result"
   ]
  },
  {
   "cell_type": "markdown",
   "metadata": {},
   "source": [
    "### Problem 10\n",
    "\n",
    "##### Use a sub-query to determine the Community Area Name with most number of crimes?\n"
   ]
  },
  {
   "cell_type": "code",
   "execution_count": 82,
   "metadata": {},
   "outputs": [
    {
     "data": {
      "text/plain": [
       "[(25, 43, 'Austin')]"
      ]
     },
     "execution_count": 82,
     "metadata": {},
     "output_type": "execute_result"
    }
   ],
   "source": [
    "sql= \"select ChicagoCensusData.COMMUNITY_AREA_NUMBER, COUNT(CASE_NUMBER) as Num_of_case,\\\n",
    "     ChicagoCensusData.COMMUNITY_AREA_NAME AS Num_of_cases FROM csvjson, ChicagoCensusData \\\n",
    "        WHERE csvjson.COMMUNITY_AREA_NUMBER = ChicagoCensusData.COMMUNITY_AREA_NUMBER GROUP BY \\\n",
    "            ChicagoCensusData.community_area_number ORDER BY Num_of_case DESC limit 1\"\n",
    "cursor.execute(sql)\n",
    "result= cursor.fetchall()\n",
    "result"
   ]
  },
  {
   "cell_type": "code",
   "execution_count": 14,
   "metadata": {},
   "outputs": [
    {
     "data": {
      "text/plain": [
       "True"
      ]
     },
     "execution_count": 14,
     "metadata": {},
     "output_type": "execute_result"
    }
   ],
   "source": [
    "cursor.close()"
   ]
  },
  {
   "cell_type": "markdown",
   "metadata": {},
   "source": [
    "## Exercise 1: Join Clauses"
   ]
  },
  {
   "cell_type": "markdown",
   "metadata": {},
   "source": [
    "### Question 1\n",
    "\n",
    "Write and execute a SQL query to list the school names, community names and average attendance for communities with a hardship index of 98."
   ]
  },
  {
   "cell_type": "code",
   "execution_count": 2,
   "metadata": {},
   "outputs": [],
   "source": [
    "import mysql.connector \n",
    "db= mysql.connector.connect(\n",
    "    host= 'localhost',\n",
    "    user= 'root',\n",
    "    password= '7899',\n",
    "    database= 'final_work_peer'\n",
    ")\n",
    "cursor= db.cursor()"
   ]
  },
  {
   "cell_type": "code",
   "execution_count": 6,
   "metadata": {},
   "outputs": [
    {
     "data": {
      "text/plain": [
       "[('George Washington Carver Military Academy High School',\n",
       "  'RIVERDALE',\n",
       "  '91.60%',\n",
       "  98),\n",
       " ('George Washington Carver Primary School', 'RIVERDALE', '90.90%', 98),\n",
       " ('Ira F Aldridge Elementary School', 'RIVERDALE', '92.90%', 98),\n",
       " ('William E B Dubois Elementary School', 'RIVERDALE', '93.30%', 98)]"
      ]
     },
     "execution_count": 6,
     "metadata": {},
     "output_type": "execute_result"
    }
   ],
   "source": [
    "sql=\"SELECT PS.NAME_OF_SCHOOL, PS.COMMUNITY_AREA_NAME, PS.AVERAGE_STUDENT_ATTENDANCE, CD.HARDSHIP_INDEX \\\n",
    "    FROM chicago_public_schools PS \\\n",
    "        INNER JOIN ChicagoCensusData CD ON PS.COMMUNITY_AREA_NUMBER = CD.COMMUNITY_AREA_NUMBER \\\n",
    "            WHERE CD.HARDSHIP_INDEX = 98;\"\n",
    "cursor.execute(sql)\n",
    "result= cursor.fetchall()\n",
    "result\n",
    "\n"
   ]
  },
  {
   "cell_type": "markdown",
   "metadata": {},
   "source": [
    "## Question 2\n",
    "\n",
    "Write and execute a SQL query to list all crimes that took place at a school. Include case number, crime type and community name."
   ]
  },
  {
   "cell_type": "code",
   "execution_count": 8,
   "metadata": {},
   "outputs": [
    {
     "name": "stdout",
     "output_type": "stream",
     "text": [
      "('HL353697', 'BATTERY', 'SOUTH SHORE', 'SCHOOL, PUBLIC, GROUNDS')\n",
      "('JA460432', 'BATTERY', 'ASHBURN', 'SCHOOL, PUBLIC, GROUNDS')\n",
      "('HR585012', 'CRIMINAL TRESPASS', 'ASHBURN', 'SCHOOL, PUBLIC, GROUNDS')\n",
      "('HT315369', 'ASSAULT', 'EAST GARFIELD PARK', 'SCHOOL, PUBLIC, GROUNDS')\n",
      "('JA460432', 'BATTERY', 'ASHBURN', 'SCHOOL, PUBLIC, GROUNDS')\n",
      "('HR585012', 'CRIMINAL TRESPASS', 'ASHBURN', 'SCHOOL, PUBLIC, GROUNDS')\n",
      "('HH639427', 'BATTERY', 'AUSTIN', 'SCHOOL, PUBLIC, BUILDING')\n",
      "('HS200939', 'CRIMINAL DAMAGE', 'AUSTIN', 'SCHOOL, PUBLIC, GROUNDS')\n",
      "('HH639427', 'BATTERY', 'AUSTIN', 'SCHOOL, PUBLIC, BUILDING')\n",
      "('HS200939', 'CRIMINAL DAMAGE', 'AUSTIN', 'SCHOOL, PUBLIC, GROUNDS')\n",
      "('HS305355', 'NARCOTICS', 'BRIGHTON PARK', 'SCHOOL, PUBLIC, BUILDING')\n",
      "('HS305355', 'NARCOTICS', 'BRIGHTON PARK', 'SCHOOL, PUBLIC, BUILDING')\n",
      "('JA460432', 'BATTERY', 'ASHBURN', 'SCHOOL, PUBLIC, GROUNDS')\n",
      "('HR585012', 'CRIMINAL TRESPASS', 'ASHBURN', 'SCHOOL, PUBLIC, GROUNDS')\n",
      "('JA460432', 'BATTERY', 'ASHBURN', 'SCHOOL, PUBLIC, GROUNDS')\n",
      "('HR585012', 'CRIMINAL TRESPASS', 'ASHBURN', 'SCHOOL, PUBLIC, GROUNDS')\n",
      "('HP716225', 'BATTERY', 'DOUGLAS', 'SCHOOL, PUBLIC, BUILDING')\n",
      "('HS305355', 'NARCOTICS', 'BRIGHTON PARK', 'SCHOOL, PUBLIC, BUILDING')\n",
      "('JA460432', 'BATTERY', 'ASHBURN', 'SCHOOL, PUBLIC, GROUNDS')\n",
      "('HR585012', 'CRIMINAL TRESPASS', 'ASHBURN', 'SCHOOL, PUBLIC, GROUNDS')\n",
      "('HL353697', 'BATTERY', 'SOUTH SHORE', 'SCHOOL, PUBLIC, GROUNDS')\n",
      "('HH639427', 'BATTERY', 'AUSTIN', 'SCHOOL, PUBLIC, BUILDING')\n",
      "('HS200939', 'CRIMINAL DAMAGE', 'AUSTIN', 'SCHOOL, PUBLIC, GROUNDS')\n",
      "('HL725506', 'BATTERY', 'LINCOLN SQUARE', 'SCHOOL, PUBLIC, BUILDING')\n",
      "('HH639427', 'BATTERY', 'AUSTIN', 'SCHOOL, PUBLIC, BUILDING')\n",
      "('HS200939', 'CRIMINAL DAMAGE', 'AUSTIN', 'SCHOOL, PUBLIC, GROUNDS')\n",
      "('HL353697', 'BATTERY', 'SOUTH SHORE', 'SCHOOL, PUBLIC, GROUNDS')\n",
      "('HK577020', 'NARCOTICS', 'ROGERS PARK', 'SCHOOL, PUBLIC, GROUNDS')\n",
      "('HH639427', 'BATTERY', 'AUSTIN', 'SCHOOL, PUBLIC, BUILDING')\n",
      "('HS200939', 'CRIMINAL DAMAGE', 'AUSTIN', 'SCHOOL, PUBLIC, GROUNDS')\n",
      "('HS305355', 'NARCOTICS', 'BRIGHTON PARK', 'SCHOOL, PUBLIC, BUILDING')\n",
      "('HH639427', 'BATTERY', 'AUSTIN', 'SCHOOL, PUBLIC, BUILDING')\n",
      "('HS200939', 'CRIMINAL DAMAGE', 'AUSTIN', 'SCHOOL, PUBLIC, GROUNDS')\n",
      "('HH639427', 'BATTERY', 'AUSTIN', 'SCHOOL, PUBLIC, BUILDING')\n",
      "('HS200939', 'CRIMINAL DAMAGE', 'AUSTIN', 'SCHOOL, PUBLIC, GROUNDS')\n",
      "('HH639427', 'BATTERY', 'AUSTIN', 'SCHOOL, PUBLIC, BUILDING')\n",
      "('HS200939', 'CRIMINAL DAMAGE', 'AUSTIN', 'SCHOOL, PUBLIC, GROUNDS')\n",
      "('HH639427', 'BATTERY', 'AUSTIN', 'SCHOOL, PUBLIC, BUILDING')\n",
      "('HS200939', 'CRIMINAL DAMAGE', 'AUSTIN', 'SCHOOL, PUBLIC, GROUNDS')\n",
      "('HH639427', 'BATTERY', 'AUSTIN', 'SCHOOL, PUBLIC, BUILDING')\n",
      "('HS200939', 'CRIMINAL DAMAGE', 'AUSTIN', 'SCHOOL, PUBLIC, GROUNDS')\n",
      "('HL353697', 'BATTERY', 'SOUTH SHORE', 'SCHOOL, PUBLIC, GROUNDS')\n",
      "('HH639427', 'BATTERY', 'AUSTIN', 'SCHOOL, PUBLIC, BUILDING')\n",
      "('HS200939', 'CRIMINAL DAMAGE', 'AUSTIN', 'SCHOOL, PUBLIC, GROUNDS')\n",
      "('HP716225', 'BATTERY', 'DOUGLAS', 'SCHOOL, PUBLIC, BUILDING')\n",
      "('HL353697', 'BATTERY', 'SOUTH SHORE', 'SCHOOL, PUBLIC, GROUNDS')\n",
      "('HT315369', 'ASSAULT', 'EAST GARFIELD PARK', 'SCHOOL, PUBLIC, GROUNDS')\n",
      "('HL725506', 'BATTERY', 'LINCOLN SQUARE', 'SCHOOL, PUBLIC, BUILDING')\n",
      "('HL353697', 'BATTERY', 'SOUTH SHORE', 'SCHOOL, PUBLIC, GROUNDS')\n",
      "('HP716225', 'BATTERY', 'DOUGLAS', 'SCHOOL, PUBLIC, BUILDING')\n",
      "('HS305355', 'NARCOTICS', 'BRIGHTON PARK', 'SCHOOL, PUBLIC, BUILDING')\n",
      "('HT315369', 'ASSAULT', 'EAST GARFIELD PARK', 'SCHOOL, PUBLIC, GROUNDS')\n",
      "('HP716225', 'BATTERY', 'DOUGLAS', 'SCHOOL, PUBLIC, BUILDING')\n",
      "('HT315369', 'ASSAULT', 'EAST GARFIELD PARK', 'SCHOOL, PUBLIC, GROUNDS')\n",
      "('HS305355', 'NARCOTICS', 'BRIGHTON PARK', 'SCHOOL, PUBLIC, BUILDING')\n",
      "('HH639427', 'BATTERY', 'AUSTIN', 'SCHOOL, PUBLIC, BUILDING')\n",
      "('HS200939', 'CRIMINAL DAMAGE', 'AUSTIN', 'SCHOOL, PUBLIC, GROUNDS')\n",
      "('HP716225', 'BATTERY', 'DOUGLAS', 'SCHOOL, PUBLIC, BUILDING')\n",
      "('HT315369', 'ASSAULT', 'EAST GARFIELD PARK', 'SCHOOL, PUBLIC, GROUNDS')\n",
      "('HT315369', 'ASSAULT', 'EAST GARFIELD PARK', 'SCHOOL, PUBLIC, GROUNDS')\n",
      "('HK577020', 'NARCOTICS', 'ROGERS PARK', 'SCHOOL, PUBLIC, GROUNDS')\n",
      "('HT315369', 'ASSAULT', 'EAST GARFIELD PARK', 'SCHOOL, PUBLIC, GROUNDS')\n",
      "('HH639427', 'BATTERY', 'AUSTIN', 'SCHOOL, PUBLIC, BUILDING')\n",
      "('HS200939', 'CRIMINAL DAMAGE', 'AUSTIN', 'SCHOOL, PUBLIC, GROUNDS')\n",
      "('HK577020', 'NARCOTICS', 'ROGERS PARK', 'SCHOOL, PUBLIC, GROUNDS')\n",
      "('HH639427', 'BATTERY', 'AUSTIN', 'SCHOOL, PUBLIC, BUILDING')\n",
      "('HS200939', 'CRIMINAL DAMAGE', 'AUSTIN', 'SCHOOL, PUBLIC, GROUNDS')\n",
      "('HT315369', 'ASSAULT', 'EAST GARFIELD PARK', 'SCHOOL, PUBLIC, GROUNDS')\n",
      "('HH639427', 'BATTERY', 'AUSTIN', 'SCHOOL, PUBLIC, BUILDING')\n",
      "('HS200939', 'CRIMINAL DAMAGE', 'AUSTIN', 'SCHOOL, PUBLIC, GROUNDS')\n",
      "('JA460432', 'BATTERY', 'ASHBURN', 'SCHOOL, PUBLIC, GROUNDS')\n",
      "('HR585012', 'CRIMINAL TRESPASS', 'ASHBURN', 'SCHOOL, PUBLIC, GROUNDS')\n",
      "('HH639427', 'BATTERY', 'AUSTIN', 'SCHOOL, PUBLIC, BUILDING')\n",
      "('HS200939', 'CRIMINAL DAMAGE', 'AUSTIN', 'SCHOOL, PUBLIC, GROUNDS')\n",
      "('HL725506', 'BATTERY', 'LINCOLN SQUARE', 'SCHOOL, PUBLIC, BUILDING')\n",
      "('HT315369', 'ASSAULT', 'EAST GARFIELD PARK', 'SCHOOL, PUBLIC, GROUNDS')\n",
      "('HT315369', 'ASSAULT', 'EAST GARFIELD PARK', 'SCHOOL, PUBLIC, GROUNDS')\n",
      "('HT315369', 'ASSAULT', 'EAST GARFIELD PARK', 'SCHOOL, PUBLIC, GROUNDS')\n",
      "('HT315369', 'ASSAULT', 'EAST GARFIELD PARK', 'SCHOOL, PUBLIC, GROUNDS')\n",
      "('HH639427', 'BATTERY', 'AUSTIN', 'SCHOOL, PUBLIC, BUILDING')\n",
      "('HS200939', 'CRIMINAL DAMAGE', 'AUSTIN', 'SCHOOL, PUBLIC, GROUNDS')\n",
      "('HH639427', 'BATTERY', 'AUSTIN', 'SCHOOL, PUBLIC, BUILDING')\n",
      "('HS200939', 'CRIMINAL DAMAGE', 'AUSTIN', 'SCHOOL, PUBLIC, GROUNDS')\n",
      "('HL353697', 'BATTERY', 'SOUTH SHORE', 'SCHOOL, PUBLIC, GROUNDS')\n",
      "('HS305355', 'NARCOTICS', 'BRIGHTON PARK', 'SCHOOL, PUBLIC, BUILDING')\n",
      "('HK577020', 'NARCOTICS', 'ROGERS PARK', 'SCHOOL, PUBLIC, GROUNDS')\n",
      "('HH639427', 'BATTERY', 'AUSTIN', 'SCHOOL, PUBLIC, BUILDING')\n",
      "('HS200939', 'CRIMINAL DAMAGE', 'AUSTIN', 'SCHOOL, PUBLIC, GROUNDS')\n",
      "('HL353697', 'BATTERY', 'SOUTH SHORE', 'SCHOOL, PUBLIC, GROUNDS')\n",
      "('HP716225', 'BATTERY', 'DOUGLAS', 'SCHOOL, PUBLIC, BUILDING')\n",
      "('HP716225', 'BATTERY', 'DOUGLAS', 'SCHOOL, PUBLIC, BUILDING')\n",
      "('HL725506', 'BATTERY', 'LINCOLN SQUARE', 'SCHOOL, PUBLIC, BUILDING')\n",
      "('HH639427', 'BATTERY', 'AUSTIN', 'SCHOOL, PUBLIC, BUILDING')\n",
      "('HS200939', 'CRIMINAL DAMAGE', 'AUSTIN', 'SCHOOL, PUBLIC, GROUNDS')\n",
      "('HK577020', 'NARCOTICS', 'ROGERS PARK', 'SCHOOL, PUBLIC, GROUNDS')\n",
      "('HH639427', 'BATTERY', 'AUSTIN', 'SCHOOL, PUBLIC, BUILDING')\n",
      "('HS200939', 'CRIMINAL DAMAGE', 'AUSTIN', 'SCHOOL, PUBLIC, GROUNDS')\n",
      "('HL353697', 'BATTERY', 'SOUTH SHORE', 'SCHOOL, PUBLIC, GROUNDS')\n",
      "('HH639427', 'BATTERY', 'AUSTIN', 'SCHOOL, PUBLIC, BUILDING')\n",
      "('HS200939', 'CRIMINAL DAMAGE', 'AUSTIN', 'SCHOOL, PUBLIC, GROUNDS')\n",
      "('HK577020', 'NARCOTICS', 'ROGERS PARK', 'SCHOOL, PUBLIC, GROUNDS')\n",
      "('HL725506', 'BATTERY', 'LINCOLN SQUARE', 'SCHOOL, PUBLIC, BUILDING')\n",
      "('HS305355', 'NARCOTICS', 'BRIGHTON PARK', 'SCHOOL, PUBLIC, BUILDING')\n",
      "('HH639427', 'BATTERY', 'AUSTIN', 'SCHOOL, PUBLIC, BUILDING')\n",
      "('HS200939', 'CRIMINAL DAMAGE', 'AUSTIN', 'SCHOOL, PUBLIC, GROUNDS')\n",
      "('HP716225', 'BATTERY', 'DOUGLAS', 'SCHOOL, PUBLIC, BUILDING')\n",
      "('HT315369', 'ASSAULT', 'EAST GARFIELD PARK', 'SCHOOL, PUBLIC, GROUNDS')\n",
      "('JA460432', 'BATTERY', 'ASHBURN', 'SCHOOL, PUBLIC, GROUNDS')\n",
      "('HR585012', 'CRIMINAL TRESPASS', 'ASHBURN', 'SCHOOL, PUBLIC, GROUNDS')\n",
      "('JA460432', 'BATTERY', 'ASHBURN', 'SCHOOL, PUBLIC, GROUNDS')\n",
      "('HR585012', 'CRIMINAL TRESPASS', 'ASHBURN', 'SCHOOL, PUBLIC, GROUNDS')\n",
      "('HP716225', 'BATTERY', 'DOUGLAS', 'SCHOOL, PUBLIC, BUILDING')\n",
      "('HP716225', 'BATTERY', 'DOUGLAS', 'SCHOOL, PUBLIC, BUILDING')\n",
      "('HP716225', 'BATTERY', 'DOUGLAS', 'SCHOOL, PUBLIC, BUILDING')\n"
     ]
    }
   ],
   "source": [
    "sql=\"SELECT C.CASE_NUMBER, C.PRIMARY_TYPE, PS.COMMUNITY_AREA_NAME, C.LOCATION_DESCRIPTION \\\n",
    "    FROM csvjson C \\\n",
    "        INNER JOIN chicago_public_schools PS ON C.COMMUNITY_AREA_NUMBER = PS.COMMUNITY_AREA_NUMBER\\\n",
    "            WHERE C.LOCATION_DESCRIPTION LIKE '%SCHOOL%';\"\n",
    "cursor.execute(sql)\n",
    "result= cursor.fetchall()\n",
    "\n",
    "for x in result:\n",
    "    print(x)"
   ]
  },
  {
   "cell_type": "markdown",
   "metadata": {},
   "source": [
    "## Exercise 2: Creating a View"
   ]
  },
  {
   "cell_type": "markdown",
   "metadata": {},
   "source": [
    "### Question 1\n",
    "\n",
    "Write and execute a SQL statement to create a view showing the columns listed in the following table, with new column names as shown in the second column."
   ]
  },
  {
   "cell_type": "code",
   "execution_count": null,
   "metadata": {},
   "outputs": [],
   "source": [
    "sql = \"CREATE VIEW View_Public_Schools1 AS\\\n",
    "    SELECT NAME_OF_SCHOOL AS School_Name, Safety_Icon AS Safety_Rating, Family_Involvement_Icon AS Family_Rating, \\\n",
    "        Environment_Icon AS Environment_Rating, Instruction_Icon AS Instruction_Rating, \\\n",
    "            Leaders_Icon AS Leaders_Rating, Teachers_Icon AS Teachers_Rating\\\n",
    "                FROM ChicagoPublicSchools;\"\n",
    "\n",
    "cursor.execute(sql)\n",
    "\n",
    "for x in cursor:\n",
    "    print(x)"
   ]
  },
  {
   "cell_type": "code",
   "execution_count": 25,
   "metadata": {},
   "outputs": [
    {
     "name": "stdout",
     "output_type": "stream",
     "text": [
      "('Abraham Lincoln Elementary School', 'Very Strong', 'Very Strong', 'Strong', 'Strong', 'Weak', 'Strong')\n",
      "('Adam Clayton Powell Paideia Community Academy Elementary School', 'Average', 'Strong', 'Strong', 'Very Strong', 'Weak', 'Strong')\n",
      "('Adlai E Stevenson Elementary School', 'Strong', '', 'Average', 'Weak', 'Weak', '')\n",
      "('Agustin Lara Elementary Academy', 'Average', 'Average', 'Average', 'Weak', 'Weak', 'Average')\n",
      "('Air Force Academy High School', 'Average', 'Strong', 'Strong', 'Average', 'Weak', 'Average')\n",
      "('Albany Park Multicultural Academy', 'Strong', 'Weak', 'Strong', 'Strong', 'Weak', 'Average')\n",
      "('Alcott High School for the Humanities', 'Strong', '', 'Strong', 'Average', 'Weak', '')\n",
      "('Alessandro Volta Elementary School', 'Average', 'Strong', 'Weak', 'Weak', 'Weak', 'Average')\n",
      "('Alexander Graham Elementary School', 'Average', 'Weak', 'Weak', 'Weak', 'Weak', 'Average')\n",
      "('Alexander Hamilton Elementary School', 'Strong', 'Strong', 'Strong', 'Average', 'Weak', 'Average')\n",
      "('Alexander von Humboldt Elementary School', 'Weak', '', 'Weak', 'Average', 'Weak', '')\n",
      "('Alex Haley Elementary Academy', 'Weak', '', 'Average', 'Strong', 'Weak', '')\n",
      "('Alfred David Kohn Elementary School', 'Very Weak', 'Weak', 'Weak', 'Very Weak', 'Weak', 'Very Weak')\n",
      "('Alfred Nobel Elementary School', 'Weak', 'Weak', 'Weak', 'Weak', 'Weak', 'Weak')\n",
      "('Alice L Barnard Computer Math & Science Center Elementary School', 'Average', '', 'Weak', 'Average', 'Weak', '')\n",
      "('Ambrose Plamondon Elementary School', 'Average', '', 'Weak', 'Weak', 'Weak', '')\n",
      "('Ames Middle School', 'Weak', 'Very Weak', 'Weak', 'Weak', 'Weak', 'Weak')\n",
      "('Amos Alonzo Stagg Elementary School', 'Weak', 'Weak', 'Weak', 'Average', 'Weak', 'Average')\n",
      "('Ana Roque de Duprey Elementary School', 'Average', '', 'Very Weak', 'Very Weak', 'Weak', '')\n",
      "('Andrew Carnegie Elementary School', 'Average', 'Average', 'Weak', 'Strong', 'Weak', 'Weak')\n",
      "('Anna R. Langford Community Academy', 'Weak', 'Weak', 'Average', 'Weak', 'Weak', 'Average')\n",
      "('Annie Keller Elementary Gifted Magnet School', 'Very Strong', 'Very Strong', 'Very Strong', 'Very Strong', 'Weak', 'Very Strong')\n",
      "('Anthony Overton Elementary School', 'Weak', '', 'Strong', 'Strong', 'Weak', '')\n",
      "('Arna Wendell Bontemps Elementary School', 'Weak', '', 'Average', 'Average', 'Weak', '')\n",
      "('Arnold Mireles Elementary Academy', 'Weak', '', 'Average', 'Average', 'Weak', '')\n",
      "('Arthur A Libby Elementary School', 'Weak', '', 'Strong', 'Strong', 'Weak', '')\n",
      "('Arthur E Canty Elementary School', 'Very Strong', 'Strong', 'Strong', 'Strong', 'Weak', 'Average')\n",
      "('Asa Philip Randolph Elementary School', 'Very Weak', '', 'Average', 'Average', 'Weak', '')\n",
      "('Ashburn Community Elementary School', 'Average', 'Strong', 'Average', 'Average', 'Weak', 'Strong')\n",
      "('Augustus H Burley Elementary School', 'Very Strong', '', 'Strong', 'Strong', 'Weak', '')\n",
      "('Austin O Sexton Elementary School', 'Weak', '', 'Weak', 'Weak', 'Weak', '')\n",
      "('Avalon Park Elementary School', 'Weak', 'Weak', 'Weak', 'Weak', 'Weak', 'Very Weak')\n",
      "('Belmont-Cragin Elementary School', 'Strong', 'Very Strong', 'Strong', 'Strong', 'Weak', 'Average')\n",
      "('Betsy Ross Elementary School', 'Weak', '', 'Average', 'Average', 'Weak', '')\n",
      "('Beulah Shoesmith Elementary School', 'Average', 'Average', 'Average', 'Weak', 'Weak', 'Average')\n",
      "('Bret Harte Elementary School', 'Strong', '', 'Strong', 'Strong', 'Weak', '')\n",
      "('Bronzeville Scholastic Academy High School', 'Average', 'Weak', 'Average', 'Average', 'Weak', 'Very Weak')\n",
      "('Burnham Elementary Inclusive Academy', 'Strong', 'Strong', 'Very Strong', 'Very Strong', 'Weak', 'Strong')\n",
      "('Burnside Elementary Scholastic Academy', 'Average', '', 'Average', 'Strong', 'Weak', '')\n",
      "('Calmeca Academy of Fine Arts and Dual Language', 'Average', 'Strong', 'Average', 'Strong', 'Weak', 'Average')\n",
      "('Carl von Linne Elementary School', 'Strong', 'Average', 'Strong', 'Strong', 'Weak', 'Average')\n",
      "('Carrie Jacobs Bond Elementary School', 'Average', 'Average', 'Strong', 'Strong', 'Weak', 'Weak')\n",
      "('Carroll-Rosenwald Specialty Elementary School', 'Weak', '', 'Very Weak', 'Very Weak', 'Weak', '')\n",
      "('Carter G Woodson South Elementary School', 'Weak', 'Weak', 'Very Weak', 'Very Weak', 'Weak', 'Average')\n",
      "('Cesar E Chavez Multicultural Academic Center Elementary School', 'Average', 'Average', 'Strong', 'Average', 'Weak', 'Average')\n",
      "('Charles Allen Prosser Career Academy High School', 'Average', 'Average', 'Average', 'Average', 'Weak', 'Average')\n",
      "('Charles Gates Dawes Elementary School', 'Average', 'Weak', 'Weak', 'Weak', 'Weak', 'Average')\n",
      "('Charles G Hammond Elementary School', 'Average', '', 'Average', 'Average', 'Weak', '')\n",
      "('Charles H Wacker Elementary School', 'Weak', '', 'Weak', 'Weak', 'Weak', '')\n",
      "('Charles Kozminski Elementary Community Academy', 'Weak', '', 'Weak', 'Average', 'Weak', '')\n",
      "('Charles N Holden Elementary School', 'Average', 'Average', 'Average', 'Weak', 'Weak', 'Average')\n",
      "('Charles P Caldwell Academy of Math & Science Elementary School', 'Weak', 'Weak', 'Average', 'Average', 'Weak', 'Weak')\n",
      "('Charles R Darwin Elementary School', 'Average', 'Average', 'Average', 'Weak', 'Weak', 'Average')\n",
      "('Charles R Henderson Elementary School', 'Very Weak', '', 'Weak', 'Weak', 'Weak', '')\n",
      "('Charles S Brownell Elementary School', 'Weak', 'Very Weak', 'Strong', 'Very Strong', 'Weak', 'Very Weak')\n",
      "('Charles Sumner  Math & Science Community Acad Elementary School', 'Average', 'Weak', 'Average', 'Average', 'Weak', 'Weak')\n",
      "('Charles W Earle Elementary School', 'Weak', '', 'Strong', 'Strong', 'Weak', '')\n",
      "('Chicago Academy Elementary School', 'Strong', '', 'Average', 'Weak', 'Weak', '')\n",
      "('Chicago High School for Agricultural Sciences', 'Very Strong', 'Strong', 'Average', 'Average', 'Weak', 'Average')\n",
      "('Christian Ebinger Elementary School', 'Strong', 'Strong', 'Strong', 'Average', 'Weak', 'Strong')\n",
      "('Christopher Columbus Elementary School', 'Strong', '', 'Average', 'Average', 'Weak', '')\n",
      "('Clara Barton Elementary School', 'Weak', 'Average', 'Weak', 'Weak', 'Weak', 'Average')\n",
      "('Claremont Academy Elementary School', 'Weak', 'Weak', 'Average', 'Average', 'Weak', 'Average')\n",
      "('Collins Academy High School', 'Strong', 'Average', 'Average', 'Average', 'Weak', 'Average')\n",
      "('Columbia Explorers Elementary Academy', 'Average', 'Strong', 'Average', 'Strong', 'Weak', 'Strong')\n",
      "('Crown Community Academy of Fine Arts Center Elementary School', 'Weak', 'Weak', 'Average', 'Average', 'Weak', 'Weak')\n",
      "('Daniel Boone Elementary School', 'Average', 'Average', 'Average', 'Average', 'Weak', 'Average')\n",
      "('Daniel R Cameron Elementary School', 'Average', '', 'Average', 'Average', 'Weak', '')\n",
      "('Daniel Webster Elementary School', 'Average', 'Average', 'Very Strong', 'Strong', 'Weak', 'Average')\n"
     ]
    }
   ],
   "source": [
    "sql = \"SELECT * FROM View_Public_Schools1\"\n",
    "\n",
    "cursor.execute(sql)\n",
    "result= cursor.fetchall()\n",
    "for x in result:\n",
    "    print(x)"
   ]
  },
  {
   "cell_type": "markdown",
   "metadata": {},
   "source": [
    "## Exercise 3: Creating a Stored Procedure"
   ]
  },
  {
   "cell_type": "markdown",
   "metadata": {},
   "source": [
    "### Question 1\n",
    "Write the structure of a query to create or replace a stored procedure called UPDATE_LEADERS_SCORE that takes a in_School_ID parameter as an integer and a in_Leader_Score parameter as an integer. Don't forget to use the #SET TERMINATOR statement to use the @ for the CREATE statement terminator."
   ]
  },
  {
   "cell_type": "code",
   "execution_count": null,
   "metadata": {},
   "outputs": [],
   "source": [
    "#### Store procedure:\n",
    "\n",
    "DELIMITER @\n",
    "\n",
    "CREATE procedure UPDATE_LEADERS_SCORE (\n",
    "IN in_School_ID INTEGER, IN in_Leader_Score INTEGER)\n",
    "\n",
    "UPDATE ChicagoPublicSchools\n",
    "SET Leaders_Score = in_Leader_Score\n",
    "WHERE School_ID = in_School_ID;\n",
    "END @\n",
    "\n",
    "DELIMITER ;"
   ]
  },
  {
   "cell_type": "code",
   "execution_count": null,
   "metadata": {},
   "outputs": [],
   "source": [
    "cursor.close()\n",
    "db.close()"
   ]
  }
 ],
 "metadata": {
  "kernelspec": {
   "display_name": "Python 3.10.6 64-bit",
   "language": "python",
   "name": "python3"
  },
  "language_info": {
   "codemirror_mode": {
    "name": "ipython",
    "version": 3
   },
   "file_extension": ".py",
   "mimetype": "text/x-python",
   "name": "python",
   "nbconvert_exporter": "python",
   "pygments_lexer": "ipython3",
   "version": "3.10.6"
  },
  "vscode": {
   "interpreter": {
    "hash": "916dbcbb3f70747c44a77c7bcd40155683ae19c65e1c03b4aa3499c5328201f1"
   }
  },
  "widgets": {
   "state": {},
   "version": "1.1.2"
  }
 },
 "nbformat": 4,
 "nbformat_minor": 4
}
